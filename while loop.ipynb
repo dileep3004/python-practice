{
 "cells": [
  {
   "cell_type": "code",
   "execution_count": 1,
   "metadata": {},
   "outputs": [
    {
     "name": "stdout",
     "output_type": "stream",
     "text": [
      "product of list 24\n"
     ]
    }
   ],
   "source": [
    "lst=[1,2,3,4]\n",
    "\n",
    "product=1\n",
    "index=0\n",
    "while index<len(lst):\n",
    "    product *=lst[index]\n",
    "    index+=1\n",
    "print(\"product of list {}\".format(product))"
   ]
  },
  {
   "cell_type": "code",
   "execution_count": 4,
   "metadata": {
    "scrolled": true
   },
   "outputs": [
    {
     "name": "stdout",
     "output_type": "stream",
     "text": [
      "all elements are done\n",
      "product of list 24\n"
     ]
    }
   ],
   "source": [
    "lst=[1,2,3,4]\n",
    "\n",
    "product=1\n",
    "index=0\n",
    "while index<len(lst):\n",
    "    product *=lst[index]\n",
    "    index+=1\n",
    "else:\n",
    "    print(\"all elements are done\")\n",
    "print(\"product of list {}\".format(product))"
   ]
  },
  {
   "cell_type": "markdown",
   "metadata": {},
   "source": [
    "# python program to find given number is prime or not"
   ]
  },
  {
   "cell_type": "code",
   "execution_count": 7,
   "metadata": {},
   "outputs": [
    {
     "name": "stdout",
     "output_type": "stream",
     "text": [
      "enter some number 3\n",
      "3 is a prime number\n"
     ]
    }
   ],
   "source": [
    "num =int(input(\"enter some number \"));\n",
    "isDivisible=False;\n",
    "i=2;\n",
    "while i<num:\n",
    "    if(num%i==0):\n",
    "        isDivisible=True;\n",
    "        print(\"{} is divisible by{}\".format(num,i))\n",
    "        \n",
    "    i+=1;\n",
    "    \n",
    "if(isDivisible):\n",
    "    print(\"{} is not a prime number\".format(num))\n",
    "else:\n",
    "    print(\"{} is a prime number\".format(num))"
   ]
  },
  {
   "cell_type": "code",
   "execution_count": null,
   "metadata": {},
   "outputs": [],
   "source": []
  },
  {
   "cell_type": "code",
   "execution_count": null,
   "metadata": {},
   "outputs": [],
   "source": []
  }
 ],
 "metadata": {
  "kernelspec": {
   "display_name": "Python 3",
   "language": "python",
   "name": "python3"
  },
  "language_info": {
   "codemirror_mode": {
    "name": "ipython",
    "version": 3
   },
   "file_extension": ".py",
   "mimetype": "text/x-python",
   "name": "python",
   "nbconvert_exporter": "python",
   "pygments_lexer": "ipython3",
   "version": "3.6.4"
  }
 },
 "nbformat": 4,
 "nbformat_minor": 2
}
