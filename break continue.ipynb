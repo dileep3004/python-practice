{
 "cells": [
  {
   "cell_type": "code",
   "execution_count": 1,
   "metadata": {},
   "outputs": [
    {
     "name": "stdout",
     "output_type": "stream",
     "text": [
      "1\n",
      "3\n"
     ]
    }
   ],
   "source": [
    "num=[1,3,4,5]\n",
    "for i in num:\n",
    "    if i==4:\n",
    "        break;\n",
    "    else:\n",
    "        print(i)\n",
    "        \n",
    "else:\n",
    "    print(\"out of list\")"
   ]
  },
  {
   "cell_type": "code",
   "execution_count": 2,
   "metadata": {},
   "outputs": [
    {
     "name": "stdout",
     "output_type": "stream",
     "text": [
      "1\n",
      "3\n",
      "5\n",
      "out of list\n"
     ]
    }
   ],
   "source": [
    "num=[1,3,4,5]\n",
    "for i in num:\n",
    "    if i==4:\n",
    "        continue;\n",
    "    else:\n",
    "        print(i)\n",
    "        \n",
    "else:\n",
    "    print(\"out of list\")"
   ]
  },
  {
   "cell_type": "code",
   "execution_count": 3,
   "metadata": {},
   "outputs": [
    {
     "name": "stdout",
     "output_type": "stream",
     "text": [
      "enter some number19\n",
      "19 is a prime\n"
     ]
    }
   ],
   "source": [
    "num=int(input(\"enter some number\"))\n",
    "isDivisible=False\n",
    "i=2\n",
    "while i<num:\n",
    "    if num%i==0:\n",
    "        isDivisible=True\n",
    "        print(\"{} is divisible by {}\".format(num,i));\n",
    "        break;\n",
    "    i+=1;\n",
    "if isDivisible:\n",
    "    print(\"{} is not a prime\".format(num))\n",
    "else:\n",
    "    print(\"{} is a prime\".format(num))"
   ]
  },
  {
   "cell_type": "code",
   "execution_count": null,
   "metadata": {},
   "outputs": [],
   "source": []
  }
 ],
 "metadata": {
  "kernelspec": {
   "display_name": "Python 3",
   "language": "python",
   "name": "python3"
  },
  "language_info": {
   "codemirror_mode": {
    "name": "ipython",
    "version": 3
   },
   "file_extension": ".py",
   "mimetype": "text/x-python",
   "name": "python",
   "nbconvert_exporter": "python",
   "pygments_lexer": "ipython3",
   "version": "3.6.4"
  }
 },
 "nbformat": 4,
 "nbformat_minor": 2
}
