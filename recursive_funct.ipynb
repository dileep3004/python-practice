{
 "cells": [
  {
   "cell_type": "code",
   "execution_count": 4,
   "metadata": {},
   "outputs": [
    {
     "name": "stdout",
     "output_type": "stream",
     "text": [
      "3628800\n"
     ]
    }
   ],
   "source": [
    "def fact(num):\n",
    "    \"\"\"\n",
    "    it calculates the factorial of number\n",
    "    \"\"\"\n",
    "    return 1 if num==1 else num*fact(num-1)\n",
    "\n",
    "num1=10\n",
    "print(fact(num1))"
   ]
  },
  {
   "cell_type": "code",
   "execution_count": 6,
   "metadata": {},
   "outputs": [
    {
     "name": "stdout",
     "output_type": "stream",
     "text": [
      "Fibonacci sequence\n",
      "0\n",
      "1\n",
      "1\n",
      "2\n",
      "3\n",
      "5\n",
      "8\n",
      "13\n",
      "21\n",
      "34\n"
     ]
    }
   ],
   "source": [
    "def fibonacci(num):\n",
    "    \"\"\"\n",
    "    Recursive function to print fibonacci sequence\n",
    "    \"\"\"\n",
    "    return num if num <= 1 else fibonacci(num-1) + fibonacci(num-2)\n",
    "\n",
    "nterms = 10\n",
    "print(\"Fibonacci sequence\")\n",
    "for num in range(nterms):\n",
    "    print(fibonacci(num))"
   ]
  },
  {
   "cell_type": "code",
   "execution_count": null,
   "metadata": {},
   "outputs": [],
   "source": []
  }
 ],
 "metadata": {
  "kernelspec": {
   "display_name": "Python 3",
   "language": "python",
   "name": "python3"
  },
  "language_info": {
   "codemirror_mode": {
    "name": "ipython",
    "version": 3
   },
   "file_extension": ".py",
   "mimetype": "text/x-python",
   "name": "python",
   "nbconvert_exporter": "python",
   "pygments_lexer": "ipython3",
   "version": "3.6.4"
  }
 },
 "nbformat": 4,
 "nbformat_minor": 2
}
