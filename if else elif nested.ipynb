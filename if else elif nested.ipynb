{
 "cells": [
  {
   "cell_type": "code",
   "execution_count": 1,
   "metadata": {},
   "outputs": [],
   "source": [
    "num=10\n",
    "if num<10:\n",
    "   print(\"number less than 10\")"
   ]
  },
  {
   "cell_type": "code",
   "execution_count": 2,
   "metadata": {},
   "outputs": [],
   "source": [
    "num=10\n",
    "if num<10:\n",
    "   print(\"number less than 10\")\n",
    "elif num>10:\n",
    "    print(\"number greater than 10\")"
   ]
  },
  {
   "cell_type": "code",
   "execution_count": 3,
   "metadata": {},
   "outputs": [
    {
     "name": "stdout",
     "output_type": "stream",
     "text": [
      "Zero\n"
     ]
    }
   ],
   "source": [
    "num=10\n",
    "if num<10:\n",
    "   print(\"number less than 10\")\n",
    "elif num>10:\n",
    "    print(\"number greater than 10\")\n",
    "    \n",
    "else:\n",
    "    print(\"Zero\")"
   ]
  },
  {
   "cell_type": "code",
   "execution_count": 4,
   "metadata": {},
   "outputs": [
    {
     "name": "stdout",
     "output_type": "stream",
     "text": [
      "enter some number80\n",
      "number greater than 10\n"
     ]
    }
   ],
   "source": [
    "num=int(input(\"enter some number\"))\n",
    "if num<10:\n",
    "   print(\"number less than 10\")\n",
    "elif num>10:\n",
    "    print(\"number greater than 10\")\n",
    "    \n",
    "else:\n",
    "    print(\"Zero\")"
   ]
  },
  {
   "cell_type": "markdown",
   "metadata": {},
   "source": [
    "greatest of three numbers"
   ]
  },
  {
   "cell_type": "code",
   "execution_count": 5,
   "metadata": {},
   "outputs": [
    {
     "name": "stdout",
     "output_type": "stream",
     "text": [
      "enter num1  52\n",
      "enter num2  58\n",
      "enter num3  0\n",
      "58\n"
     ]
    }
   ],
   "source": [
    "num1=int(input(\"enter num1  \"))\n",
    "num2=int(input(\"enter num2  \"))\n",
    "num3=int(input(\"enter num3  \"))\n",
    "if num1>num2:\n",
    "    if num1>num3:\n",
    "        print(num1)\n",
    "    else:\n",
    "        print(num3)\n",
    "elif num2>num3:\n",
    "    print(num2)\n",
    "    \n",
    "else:\n",
    "    print(num3)"
   ]
  },
  {
   "cell_type": "code",
   "execution_count": null,
   "metadata": {},
   "outputs": [],
   "source": []
  }
 ],
 "metadata": {
  "kernelspec": {
   "display_name": "Python 3",
   "language": "python",
   "name": "python3"
  },
  "language_info": {
   "codemirror_mode": {
    "name": "ipython",
    "version": 3
   },
   "file_extension": ".py",
   "mimetype": "text/x-python",
   "name": "python",
   "nbconvert_exporter": "python",
   "pygments_lexer": "ipython3",
   "version": "3.6.4"
  }
 },
 "nbformat": 4,
 "nbformat_minor": 2
}
